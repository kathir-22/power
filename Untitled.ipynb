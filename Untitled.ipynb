{
 "cells": [
  {
   "cell_type": "code",
   "execution_count": 9,
   "id": "b92565cd",
   "metadata": {},
   "outputs": [
    {
     "name": "stdout",
     "output_type": "stream",
     "text": [
      "ENTER THE NUMBER n: 2\n",
      "ENTER THE NUMBER x: 10\n",
      "the power of x is 100\n"
     ]
    }
   ],
   "source": [
    "class power:\n",
    "    def __init__(self):\n",
    "        n=int(input(\"ENTER THE NUMBER n: \"))\n",
    "        x=int(input(\"ENTER THE NUMBER x: \"))\n",
    "        print(\"the power of x is\", x**n)\n",
    "pow=power()"
   ]
  },
  {
   "cell_type": "code",
   "execution_count": null,
   "id": "b4e9182b",
   "metadata": {},
   "outputs": [],
   "source": []
  },
  {
   "cell_type": "code",
   "execution_count": null,
   "id": "7eab4ec2",
   "metadata": {},
   "outputs": [],
   "source": []
  }
 ],
 "metadata": {
  "kernelspec": {
   "display_name": "Python 3 (ipykernel)",
   "language": "python",
   "name": "python3"
  },
  "language_info": {
   "codemirror_mode": {
    "name": "ipython",
    "version": 3
   },
   "file_extension": ".py",
   "mimetype": "text/x-python",
   "name": "python",
   "nbconvert_exporter": "python",
   "pygments_lexer": "ipython3",
   "version": "3.10.2"
  }
 },
 "nbformat": 4,
 "nbformat_minor": 5
}
